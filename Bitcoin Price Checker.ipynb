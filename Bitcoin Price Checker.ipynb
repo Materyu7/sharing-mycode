{
 "cells": [
  {
   "cell_type": "code",
   "execution_count": null,
   "metadata": {},
   "outputs": [],
   "source": [
    "import requests\n",
    "import time\n",
    "from email.mime.multipart import MIMEMultipart\n",
    "from email.mime.text import MIMEText\n",
    "import smtplib\n",
    "import getpass"
   ]
  },
  {
   "cell_type": "code",
   "execution_count": null,
   "metadata": {},
   "outputs": [],
   "source": [
    "def send_email():\n",
    "    msg = MIMEMultipart()\n",
    "    \n",
    "    password = 'bitcoinprice'\n",
    "    msg['From'] = 'bitcoinpricechecker@gmail.com'\n",
    "    msg['To'] = send_email_to\n",
    "    msg['Subject'] = \"Bitcome Price Dropping, Check now!\"\n",
    "    \n",
    "    message = \"Dear \" + your_name + \"\\nBitcoin prices are now \" + str(bitcoin_rate) + \". Better buy quick. \\nRegards, \\n\" + \"Bitcoin Price Checker\"\n",
    "    \n",
    "    msg.attach(MIMEText(message, 'plain'))\n",
    "    \n",
    "    server = smtplib.SMTP('smtp.gmail.com: 587')\n",
    "    \n",
    "    server.starttls()\n",
    "    \n",
    "    server.login(msg['From'], password)\n",
    "    \n",
    "    server.sendmail(msg['From'], msg['To'], message)\n",
    "    \n",
    "    server.quit()\n",
    "    \n",
    "    print(\"successfully sent mail to %s:\" % (msg['To']))\n",
    "    print(\"Price of Bitcoin was at \" + str(bitcoin_rate))"
   ]
  },
  {
   "cell_type": "code",
   "execution_count": null,
   "metadata": {},
   "outputs": [],
   "source": [
    "def send_notificaton():\n",
    "    bitcoin_price = str(bitcoin_rate)\n",
    "    price = {}\n",
    "    price['value1'] = bitcoin_price\n",
    "    ifttt_webhooks_url = 'https://maker.ifttt.com/trigger/Bitcoin_price_drop/with/key/bKjwTwEA9PI3SlWHwu-Cmp'\n",
    "    requests.post(ifttt_webhooks_url, data = price)\n",
    "    "
   ]
  },
  {
   "cell_type": "code",
   "execution_count": null,
   "metadata": {
    "scrolled": true
   },
   "outputs": [],
   "source": [
    "your_name = input('Enter your name: ')\n",
    "send_email_to = input('Enter email address to send email to: ')\n",
    "alert_amount = input('Alert only if Bitcoin Price drops below: ')\n",
    "time_interval = int(input('Enter a time interval in hours, you will be updated regarding the bitcoin price according to this time interval: '))"
   ]
  },
  {
   "cell_type": "code",
   "execution_count": null,
   "metadata": {},
   "outputs": [],
   "source": [
    "while True:\n",
    "    url = \"https://api.coindesk.com/v1/bpi/currentprice.json\"\n",
    "    r = requests.get(url, headers={\"Accept\": \"application/json\"})\n",
    "    data = r.json()\n",
    "    bpi = data['bpi']\n",
    "    USD = bpi['USD']\n",
    "    bitcoin_rate = int(USD['rate_float'])\n",
    "    sleep_time = time_interval*60*60\n",
    "    sleep_time = float(sleep_time)\n",
    "    if bitcoin_rate < int(alert_amount):\n",
    "        send_email()\n",
    "        send_notificaton()\n",
    "        print('Will check again in ' + str(time_interval) + ' hours.')\n",
    "        time.sleep(sleep_time)\n",
    "    else:\n",
    "        send_email()\n",
    "        print('Price is ' + str(bitcoin_rate) + '. Will check again in ' + str(time_interval) + ' hours.')\n",
    "        time.sleep(sleep_time)"
   ]
  },
  {
   "cell_type": "code",
   "execution_count": null,
   "metadata": {},
   "outputs": [],
   "source": []
  },
  {
   "cell_type": "code",
   "execution_count": null,
   "metadata": {},
   "outputs": [],
   "source": []
  }
 ],
 "metadata": {
  "kernelspec": {
   "display_name": "Python 3",
   "language": "python",
   "name": "python3"
  },
  "language_info": {
   "codemirror_mode": {
    "name": "ipython",
    "version": 3
   },
   "file_extension": ".py",
   "mimetype": "text/x-python",
   "name": "python",
   "nbconvert_exporter": "python",
   "pygments_lexer": "ipython3",
   "version": "3.7.6"
  }
 },
 "nbformat": 4,
 "nbformat_minor": 4
}
